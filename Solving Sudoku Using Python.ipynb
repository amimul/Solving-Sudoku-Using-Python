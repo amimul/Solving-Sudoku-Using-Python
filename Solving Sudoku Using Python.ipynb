{
 "cells": [
  {
   "cell_type": "code",
   "execution_count": 62,
   "metadata": {},
   "outputs": [
    {
     "name": "stdout",
     "output_type": "stream",
     "text": [
      "[[7, 8, 0, 4, 0, 0, 1, 2, 0], [6, 0, 0, 0, 7, 5, 0, 0, 9], [0, 0, 0, 6, 0, 1, 0, 7, 8], [0, 0, 7, 0, 4, 0, 2, 6, 0], [0, 0, 1, 0, 5, 0, 9, 3, 0], [9, 0, 4, 0, 6, 0, 0, 0, 5], [0, 7, 0, 3, 0, 0, 0, 1, 2], [1, 2, 0, 0, 0, 7, 4, 0, 0], [0, 4, 9, 2, 0, 6, 0, 0, 7]]\n"
     ]
    }
   ],
   "source": [
    "\n",
    "board = [\n",
    "    [7,8,0,4,0,0,1,2,0],\n",
    "    [6,0,0,0,7,5,0,0,9],\n",
    "    [0,0,0,6,0,1,0,7,8],\n",
    "    [0,0,7,0,4,0,2,6,0],\n",
    "    [0,0,1,0,5,0,9,3,0],\n",
    "    [9,0,4,0,6,0,0,0,5],\n",
    "    [0,7,0,3,0,0,0,1,2],\n",
    "    [1,2,0,0,0,7,4,0,0],\n",
    "    [0,4,9,2,0,6,0,0,7]\n",
    "]\n",
    "\n",
    "print(board)\n"
   ]
  },
  {
   "cell_type": "code",
   "execution_count": 59,
   "metadata": {},
   "outputs": [
    {
     "name": "stdout",
     "output_type": "stream",
     "text": [
      "[[7 8 0 4 0 0 1 2 0]\n",
      " [6 0 0 0 7 5 0 0 9]\n",
      " [0 0 0 6 0 1 0 7 8]\n",
      " [0 0 7 0 4 0 2 6 0]\n",
      " [0 0 1 0 5 0 9 3 0]\n",
      " [9 0 4 0 6 0 0 0 5]\n",
      " [0 7 0 3 0 0 0 1 2]\n",
      " [1 2 0 0 0 7 4 0 0]\n",
      " [0 4 9 2 0 6 0 0 7]]\n"
     ]
    }
   ],
   "source": [
    "import numpy as np\n",
    "print(np.matrix(board))"
   ]
  },
  {
   "cell_type": "code",
   "execution_count": 60,
   "metadata": {},
   "outputs": [],
   "source": [
    "def possible(x, y, num):\n",
    "    global board\n",
    "    for i in range(0,9):\n",
    "        if board[i][y] == num:\n",
    "            return False\n",
    "    for j in range(9):\n",
    "        if board[x][j] == num:\n",
    "            return False\n",
    "    x0 = (x//3)*3\n",
    "    y0 = (y//3)*3\n",
    "    \n",
    "    for i in range(3):\n",
    "        for j in range(3):\n",
    "            if board[x0 + i][y0 + j] == num:\n",
    "                return False\n",
    "    return True"
   ]
  },
  {
   "cell_type": "code",
   "execution_count": 71,
   "metadata": {},
   "outputs": [
    {
     "data": {
      "text/plain": [
       "True"
      ]
     },
     "execution_count": 71,
     "metadata": {},
     "output_type": "execute_result"
    }
   ],
   "source": [
    "possible(1,2,2)"
   ]
  },
  {
   "cell_type": "code",
   "execution_count": 64,
   "metadata": {},
   "outputs": [],
   "source": [
    "def solve():\n",
    "    global board\n",
    "    for y in range(9):\n",
    "        for x in range(9):\n",
    "            if board[y][x] == 0:\n",
    "                for num in range(1,10):\n",
    "                    if possible(y,x,num):\n",
    "                        board[y][x]=num\n",
    "                        solve()\n",
    "                        board[y][x] = 0\n",
    "                return\n",
    "    print(np.matrix(board))\n",
    "    input(\"ANYMORE?\")\n"
   ]
  },
  {
   "cell_type": "code",
   "execution_count": 65,
   "metadata": {},
   "outputs": [
    {
     "name": "stdout",
     "output_type": "stream",
     "text": [
      "[[7 8 5 4 3 9 1 2 6]\n",
      " [6 1 2 8 7 5 3 4 9]\n",
      " [4 9 3 6 2 1 5 7 8]\n",
      " [8 5 7 9 4 3 2 6 1]\n",
      " [2 6 1 7 5 8 9 3 4]\n",
      " [9 3 4 1 6 2 7 8 5]\n",
      " [5 7 8 3 9 4 6 1 2]\n",
      " [1 2 6 5 8 7 4 9 3]\n",
      " [3 4 9 2 1 6 8 5 7]]\n",
      "ANYMORE?\n"
     ]
    }
   ],
   "source": [
    "solve()"
   ]
  },
  {
   "cell_type": "code",
   "execution_count": 56,
   "metadata": {},
   "outputs": [],
   "source": [
    "# Thankyou ! "
   ]
  },
  {
   "cell_type": "code",
   "execution_count": 57,
   "metadata": {},
   "outputs": [],
   "source": []
  },
  {
   "cell_type": "code",
   "execution_count": null,
   "metadata": {},
   "outputs": [],
   "source": []
  }
 ],
 "metadata": {
  "kernelspec": {
   "display_name": "Python 3",
   "language": "python",
   "name": "python3"
  },
  "language_info": {
   "codemirror_mode": {
    "name": "ipython",
    "version": 3
   },
   "file_extension": ".py",
   "mimetype": "text/x-python",
   "name": "python",
   "nbconvert_exporter": "python",
   "pygments_lexer": "ipython3",
   "version": "3.6.5"
  }
 },
 "nbformat": 4,
 "nbformat_minor": 2
}
